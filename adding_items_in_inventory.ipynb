{
  "nbformat": 4,
  "nbformat_minor": 0,
  "metadata": {
    "colab": {
      "name": " adding items in inventory.ipynb",
      "provenance": [],
      "collapsed_sections": []
    },
    "kernelspec": {
      "name": "python3",
      "display_name": "Python 3"
    },
    "language_info": {
      "name": "python"
    }
  },
  "cells": [
    {
      "cell_type": "code",
      "metadata": {
        "id": "rXctip3Wvfgl"
      },
      "source": [
        "fd=open(\"record.json\",\"r\")\n",
        "x=fd.read()\n",
        "fd.close()\n"
      ],
      "execution_count": 44,
      "outputs": []
    },
    {
      "cell_type": "code",
      "metadata": {
        "id": "FJqLK86yxnPR"
      },
      "source": [
        "import json\n",
        "data=json.loads(x)"
      ],
      "execution_count": 46,
      "outputs": []
    },
    {
      "cell_type": "markdown",
      "metadata": {
        "id": "1IgoRmE2xyoL"
      },
      "source": [
        "**PRINTING ITEMS PRESENT IN THE INVENTORY**\n"
      ]
    },
    {
      "cell_type": "code",
      "metadata": {
        "colab": {
          "base_uri": "https://localhost:8080/"
        },
        "id": "f61PjoxLxvWW",
        "outputId": "599be9c7-da5c-4291-ce27-87b3713baa2e"
      },
      "source": [
        "print(\"*********************************************|WELCOME TO MY INVENTORY|********************************************\\n\")\n",
        "print(\"                                  |CURRENT ITEMS PRESENT IN THE INVENTORY|     \")\n",
        "print(\"------------------------------------------------------------------------------------------------------------------\")\n",
        "for i in data.keys():\n",
        "  print(\"-----------------------------------------------------------------------------------------------------\")\n",
        "  print(\"product_id:{}  Product_name:{} \\t \\tPrice:{}\\t\\t Quantity:{} \".format( i,data[i][\"prod_name\"],data[i][\"prod_price\"]  ,data[i][\"prod_quantity\"]))"
      ],
      "execution_count": 47,
      "outputs": [
        {
          "output_type": "stream",
          "name": "stdout",
          "text": [
            "*********************************************WELCOME TO MY INVENTORY********************************************\n",
            "\n",
            "                                  CURRENT ITEMS PRESENT IN THE INVENTORY     \n",
            "------------------------------------------------------------------------------------------------------------------\n",
            "-----------------------------------------------------------------------------------------------------\n",
            "product_id:100  Product_name:bourbon \t \tPrice:10\t\t Quantity:20 \n",
            "-----------------------------------------------------------------------------------------------------\n",
            "product_id:101  Product_name:high_fat_milk \t \tPrice:25\t\t Quantity:10 \n",
            "-----------------------------------------------------------------------------------------------------\n",
            "product_id:102  Product_name:fanta \t \tPrice:20\t\t Quantity:50 \n",
            "-----------------------------------------------------------------------------------------------------\n",
            "product_id:103  Product_name:jeera_rice \t \tPrice:800\t\t Quantity:40 \n",
            "-----------------------------------------------------------------------------------------------------\n",
            "product_id:104  Product_name:dahi \t \tPrice:15\t\t Quantity:20 \n",
            "-----------------------------------------------------------------------------------------------------\n",
            "product_id:105  Product_name:marie \t \tPrice:10\t\t Quantity:45 \n",
            "-----------------------------------------------------------------------------------------------------\n",
            "product_id:106  Product_name:dal \t \tPrice:22\t\t Quantity:60 \n",
            "-----------------------------------------------------------------------------------------------------\n",
            "product_id:107  Product_name:soap \t \tPrice:22\t\t Quantity:55 \n",
            "-----------------------------------------------------------------------------------------------------\n",
            "product_id:108  Product_name:five_star \t \tPrice:15\t\t Quantity:68 \n",
            "-----------------------------------------------------------------------------------------------------\n",
            "product_id:109  Product_name:water_bottle \t \tPrice:20\t\t Quantity:90 \n",
            "-----------------------------------------------------------------------------------------------------\n",
            "product_id:110  Product_name:wheat \t \tPrice:150\t\t Quantity:89 \n",
            "-----------------------------------------------------------------------------------------------------\n",
            "product_id:111  Product_name:cooking_oil \t \tPrice:80\t\t Quantity:88 \n",
            "-----------------------------------------------------------------------------------------------------\n",
            "product_id:112  Product_name:hair_oil \t \tPrice:10\t\t Quantity:58 \n",
            "-----------------------------------------------------------------------------------------------------\n",
            "product_id:113  Product_name:Mustard_seeds \t \tPrice:148\t\t Quantity:78 \n",
            "-----------------------------------------------------------------------------------------------------\n",
            "product_id:114  Product_name:turmeric_powder \t \tPrice:128\t\t Quantity:98 \n",
            "-----------------------------------------------------------------------------------------------------\n",
            "product_id:115  Product_name:jem \t \tPrice:22\t\t Quantity:78 \n",
            "-----------------------------------------------------------------------------------------------------\n",
            "product_id:116  Product_name:tomato_sause \t \tPrice:38\t\t Quantity:96 \n",
            "-----------------------------------------------------------------------------------------------------\n",
            "product_id:117  Product_name:cheese \t \tPrice:60\t\t Quantity:66 \n",
            "-----------------------------------------------------------------------------------------------------\n",
            "product_id:118  Product_name:pizza_sause \t \tPrice:30\t\t Quantity:86 \n",
            "-----------------------------------------------------------------------------------------------------\n",
            "product_id:119  Product_name:ata_maggie \t \tPrice:12\t\t Quantity:100 \n",
            "-----------------------------------------------------------------------------------------------------\n",
            "product_id:120  Product_name:pasta \t \tPrice:28\t\t Quantity:56 \n",
            "-----------------------------------------------------------------------------------------------------\n",
            "product_id:121  Product_name:noodles \t \tPrice:58\t\t Quantity:86 \n",
            "-----------------------------------------------------------------------------------------------------\n",
            "product_id:122  Product_name:frooti  \t \tPrice:10\t\t Quantity:106 \n",
            "-----------------------------------------------------------------------------------------------------\n",
            "product_id:123  Product_name:gems \t \tPrice:5\t\t Quantity:66 \n",
            "-----------------------------------------------------------------------------------------------------\n",
            "product_id:124  Product_name:panner \t \tPrice:50\t\t Quantity:106 \n",
            "-----------------------------------------------------------------------------------------------------\n",
            "product_id:125  Product_name:curd \t \tPrice:15\t\t Quantity:46 \n",
            "-----------------------------------------------------------------------------------------------------\n",
            "product_id:126  Product_name:tooth_paste \t \tPrice:20\t\t Quantity:99 \n",
            "-----------------------------------------------------------------------------------------------------\n",
            "product_id:127  Product_name:shampo \t \tPrice:28\t\t Quantity:96 \n",
            "-----------------------------------------------------------------------------------------------------\n",
            "product_id:128  Product_name:hand_wash \t \tPrice:108\t\t Quantity:76 \n",
            "-----------------------------------------------------------------------------------------------------\n",
            "product_id:129  Product_name:idli_rava \t \tPrice:48\t\t Quantity:100 \n",
            "-----------------------------------------------------------------------------------------------------\n",
            "product_id:130  Product_name:appy \t \tPrice:10\t\t Quantity:56 \n"
          ]
        }
      ]
    },
    {
      "cell_type": "markdown",
      "metadata": {
        "id": "cSrcyVUvy8cD"
      },
      "source": [
        "**CHECKING IF ITEMS IS ALREADY PRESENT IN INVENTORY OR NOT & UPDATING**\n"
      ]
    },
    {
      "cell_type": "code",
      "metadata": {
        "colab": {
          "base_uri": "https://localhost:8080/"
        },
        "id": "-JKJf8yQA3Kd",
        "outputId": "ef2227c9-7eff-4ef5-e0cb-38cac7672942"
      },
      "source": [
        "product_id = input(\"enter the product id:\")\n",
        "product_name = input(\"enter the name of product:\")\n",
        "product_brand = input(\"enter the brand:\")\n",
        "product_category = input(\"enter the category:\")\n",
        "price = int(input(\"enter the price:\"))\n",
        "quantity = int(input(\"enter the quantity:\"))\n",
        "\n",
        "\n",
        "\n",
        "if(product_id in data.keys()):\n",
        "  print(\"\\t ITEM IS PRESENT \\t\")\n",
        "  data[product_id][\"prod_quantity\"]=  data[product_id][\"prod_quantity\"]+quantity\n",
        "else:\n",
        "  data[product_id]={\"prod_name\":product_name,\"prod_brand\":product_brand,\"prod_category\":product_category,\"prod_price\":price,\"prod_quantity\":quantity}\n",
        "  print(\" \\t NEW DATA ADDED TO INVENTORY \\t\")\n"
      ],
      "execution_count": 51,
      "outputs": [
        {
          "output_type": "stream",
          "name": "stdout",
          "text": [
            "enter the product id:131\n",
            "enter the name of product:pencil\n",
            "enter the brand:natraj\n",
            "enter the category:stationary\n",
            "enter the price:30\n",
            "enter the quantity:140\n",
            " \t NEW DATA ADDED TO INVENTORY \t\n"
          ]
        }
      ]
    },
    {
      "cell_type": "markdown",
      "metadata": {
        "id": "PsjvI9LMzuVy"
      },
      "source": [
        "**PRINTING THE UPDATED INVENTORY**\n"
      ]
    },
    {
      "cell_type": "code",
      "metadata": {
        "colab": {
          "base_uri": "https://localhost:8080/"
        },
        "id": "o9QdBaIVqVyK",
        "outputId": "1f7f3062-8804-430a-d88c-34103c97b0a6"
      },
      "source": [
        "print(\"                                            |UPDATED ITEMS IN INVENTORY|     \")\n",
        "print(\"------------------------------------------------------------------------------------------------------------------\")\n",
        "for i in data.keys():\n",
        "  print(\"----------------------------------------------------------------------------------------------------------------\")\n",
        "  print(\"product_id:{}  Product_name:{} \\t \\tPrice:{}\\t\\t Quantity:{} \".format( i,data[i][\"prod_name\"],data[i][\"prod_price\"]  ,data[i][\"prod_quantity\"]))"
      ],
      "execution_count": 53,
      "outputs": [
        {
          "output_type": "stream",
          "name": "stdout",
          "text": [
            "                                            |UPDATED ITEMS IN INVENTORY|     \n",
            "------------------------------------------------------------------------------------------------------------------\n",
            "----------------------------------------------------------------------------------------------------------------\n",
            "product_id:100  Product_name:bourbon \t \tPrice:10\t\t Quantity:20 \n",
            "----------------------------------------------------------------------------------------------------------------\n",
            "product_id:101  Product_name:high_fat_milk \t \tPrice:25\t\t Quantity:10 \n",
            "----------------------------------------------------------------------------------------------------------------\n",
            "product_id:102  Product_name:fanta \t \tPrice:20\t\t Quantity:50 \n",
            "----------------------------------------------------------------------------------------------------------------\n",
            "product_id:103  Product_name:jeera_rice \t \tPrice:800\t\t Quantity:40 \n",
            "----------------------------------------------------------------------------------------------------------------\n",
            "product_id:104  Product_name:dahi \t \tPrice:15\t\t Quantity:20 \n",
            "----------------------------------------------------------------------------------------------------------------\n",
            "product_id:105  Product_name:marie \t \tPrice:10\t\t Quantity:45 \n",
            "----------------------------------------------------------------------------------------------------------------\n",
            "product_id:106  Product_name:dal \t \tPrice:22\t\t Quantity:60 \n",
            "----------------------------------------------------------------------------------------------------------------\n",
            "product_id:107  Product_name:soap \t \tPrice:22\t\t Quantity:55 \n",
            "----------------------------------------------------------------------------------------------------------------\n",
            "product_id:108  Product_name:five_star \t \tPrice:15\t\t Quantity:68 \n",
            "----------------------------------------------------------------------------------------------------------------\n",
            "product_id:109  Product_name:water_bottle \t \tPrice:20\t\t Quantity:90 \n",
            "----------------------------------------------------------------------------------------------------------------\n",
            "product_id:110  Product_name:wheat \t \tPrice:150\t\t Quantity:89 \n",
            "----------------------------------------------------------------------------------------------------------------\n",
            "product_id:111  Product_name:cooking_oil \t \tPrice:80\t\t Quantity:88 \n",
            "----------------------------------------------------------------------------------------------------------------\n",
            "product_id:112  Product_name:hair_oil \t \tPrice:10\t\t Quantity:58 \n",
            "----------------------------------------------------------------------------------------------------------------\n",
            "product_id:113  Product_name:Mustard_seeds \t \tPrice:148\t\t Quantity:78 \n",
            "----------------------------------------------------------------------------------------------------------------\n",
            "product_id:114  Product_name:turmeric_powder \t \tPrice:128\t\t Quantity:98 \n",
            "----------------------------------------------------------------------------------------------------------------\n",
            "product_id:115  Product_name:jem \t \tPrice:22\t\t Quantity:78 \n",
            "----------------------------------------------------------------------------------------------------------------\n",
            "product_id:116  Product_name:tomato_sause \t \tPrice:38\t\t Quantity:96 \n",
            "----------------------------------------------------------------------------------------------------------------\n",
            "product_id:117  Product_name:cheese \t \tPrice:60\t\t Quantity:66 \n",
            "----------------------------------------------------------------------------------------------------------------\n",
            "product_id:118  Product_name:pizza_sause \t \tPrice:30\t\t Quantity:86 \n",
            "----------------------------------------------------------------------------------------------------------------\n",
            "product_id:119  Product_name:ata_maggie \t \tPrice:12\t\t Quantity:100 \n",
            "----------------------------------------------------------------------------------------------------------------\n",
            "product_id:120  Product_name:pasta \t \tPrice:28\t\t Quantity:56 \n",
            "----------------------------------------------------------------------------------------------------------------\n",
            "product_id:121  Product_name:noodles \t \tPrice:58\t\t Quantity:86 \n",
            "----------------------------------------------------------------------------------------------------------------\n",
            "product_id:122  Product_name:frooti  \t \tPrice:10\t\t Quantity:106 \n",
            "----------------------------------------------------------------------------------------------------------------\n",
            "product_id:123  Product_name:gems \t \tPrice:5\t\t Quantity:66 \n",
            "----------------------------------------------------------------------------------------------------------------\n",
            "product_id:124  Product_name:panner \t \tPrice:50\t\t Quantity:106 \n",
            "----------------------------------------------------------------------------------------------------------------\n",
            "product_id:125  Product_name:curd \t \tPrice:15\t\t Quantity:46 \n",
            "----------------------------------------------------------------------------------------------------------------\n",
            "product_id:126  Product_name:tooth_paste \t \tPrice:20\t\t Quantity:99 \n",
            "----------------------------------------------------------------------------------------------------------------\n",
            "product_id:127  Product_name:shampo \t \tPrice:28\t\t Quantity:96 \n",
            "----------------------------------------------------------------------------------------------------------------\n",
            "product_id:128  Product_name:hand_wash \t \tPrice:108\t\t Quantity:76 \n",
            "----------------------------------------------------------------------------------------------------------------\n",
            "product_id:129  Product_name:idli_rava \t \tPrice:48\t\t Quantity:100 \n",
            "----------------------------------------------------------------------------------------------------------------\n",
            "product_id:130  Product_name:appy \t \tPrice:10\t\t Quantity:156 \n",
            "----------------------------------------------------------------------------------------------------------------\n",
            "product_id:131  Product_name:pencil \t \tPrice:30\t\t Quantity:140 \n"
          ]
        }
      ]
    },
    {
      "cell_type": "code",
      "metadata": {
        "id": "2-p2AyyD3B5T"
      },
      "source": [
        "import json\n",
        "updated=json.dumps(data)\n",
        "\n",
        "fd=open(\"record.json\",\"w\")\n",
        "fd.write(updated)\n",
        "fd.close()"
      ],
      "execution_count": 56,
      "outputs": []
    },
    {
      "cell_type": "code",
      "metadata": {
        "id": "UIIeBVA83PDz"
      },
      "source": [
        ""
      ],
      "execution_count": null,
      "outputs": []
    }
  ]
}