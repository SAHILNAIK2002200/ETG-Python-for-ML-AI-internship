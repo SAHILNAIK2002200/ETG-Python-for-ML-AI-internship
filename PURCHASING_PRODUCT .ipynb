{
  "nbformat": 4,
  "nbformat_minor": 0,
  "metadata": {
    "colab": {
      "name": "PURCHASING_PRODUCT.ipynb",
      "provenance": [],
      "collapsed_sections": []
    },
    "kernelspec": {
      "name": "python3",
      "display_name": "Python 3"
    },
    "language_info": {
      "name": "python"
    }
  },
  "cells": [
    {
      "cell_type": "code",
      "metadata": {
        "id": "g0r8bKQ37VpO"
      },
      "source": [
        "fd=open(\"record.json\",\"r\")\n",
        "x=fd.read()\n",
        "fd.close()\n",
        "\n"
      ],
      "execution_count": 1,
      "outputs": []
    },
    {
      "cell_type": "code",
      "metadata": {
        "id": "ayoQb0xl76tM"
      },
      "source": [
        "import json\n",
        "data=json.loads(x)"
      ],
      "execution_count": 2,
      "outputs": []
    },
    {
      "cell_type": "markdown",
      "metadata": {
        "id": "bboSmgNO9feT"
      },
      "source": [
        "**PRINTING ITEMS PRESENT IN THE STORE**"
      ]
    },
    {
      "cell_type": "code",
      "metadata": {
        "colab": {
          "base_uri": "https://localhost:8080/"
        },
        "id": "Wz-wQv5A8iOq",
        "outputId": "0940a54d-e6ac-4b26-eb4a-3255186859ab"
      },
      "source": [
        "print(\"*********************************************|WELCOME TO MY STORE|********************************************\\n\")\n",
        "print(\"                                  |CURRENT ITEMS PRESENT IN THE STORE|     \")\n",
        "print(\"------------------------------------------------------------------------------------------------------------------\")\n",
        "for i in data.keys():\n",
        "  print(\"-----------------------------------------------------------------------------------------------------\")\n",
        "  print(\"product_id:{}  Product_name:{} \\t \\tPrice:{}\\t\\t Quantity:{} \".format( i,data[i][\"prod_name\"],  data[i][\"prod_price\"],data[i][\"prod_quantity\"]))"
      ],
      "execution_count": 3,
      "outputs": [
        {
          "output_type": "stream",
          "name": "stdout",
          "text": [
            "*********************************************|WELCOME TO MY STORE|********************************************\n",
            "\n",
            "                                  |CURRENT ITEMS PRESENT IN THE STORE|     \n",
            "------------------------------------------------------------------------------------------------------------------\n",
            "-----------------------------------------------------------------------------------------------------\n",
            "product_id:100  Product_name:bourbon \t \tPrice:10\t\t Quantity:20 \n",
            "-----------------------------------------------------------------------------------------------------\n",
            "product_id:101  Product_name:high_fat_milk \t \tPrice:25\t\t Quantity:10 \n",
            "-----------------------------------------------------------------------------------------------------\n",
            "product_id:102  Product_name:fanta \t \tPrice:20\t\t Quantity:50 \n",
            "-----------------------------------------------------------------------------------------------------\n",
            "product_id:103  Product_name:jeera_rice \t \tPrice:800\t\t Quantity:40 \n",
            "-----------------------------------------------------------------------------------------------------\n",
            "product_id:104  Product_name:dahi \t \tPrice:15\t\t Quantity:20 \n",
            "-----------------------------------------------------------------------------------------------------\n",
            "product_id:105  Product_name:marie \t \tPrice:10\t\t Quantity:45 \n",
            "-----------------------------------------------------------------------------------------------------\n",
            "product_id:106  Product_name:dal \t \tPrice:22\t\t Quantity:60 \n",
            "-----------------------------------------------------------------------------------------------------\n",
            "product_id:107  Product_name:soap \t \tPrice:22\t\t Quantity:55 \n",
            "-----------------------------------------------------------------------------------------------------\n",
            "product_id:108  Product_name:five_star \t \tPrice:15\t\t Quantity:68 \n",
            "-----------------------------------------------------------------------------------------------------\n",
            "product_id:109  Product_name:water_bottle \t \tPrice:20\t\t Quantity:90 \n",
            "-----------------------------------------------------------------------------------------------------\n",
            "product_id:110  Product_name:wheat \t \tPrice:150\t\t Quantity:89 \n",
            "-----------------------------------------------------------------------------------------------------\n",
            "product_id:111  Product_name:cooking_oil \t \tPrice:80\t\t Quantity:88 \n",
            "-----------------------------------------------------------------------------------------------------\n",
            "product_id:112  Product_name:hair_oil \t \tPrice:10\t\t Quantity:58 \n",
            "-----------------------------------------------------------------------------------------------------\n",
            "product_id:113  Product_name:Mustard_seeds \t \tPrice:148\t\t Quantity:78 \n",
            "-----------------------------------------------------------------------------------------------------\n",
            "product_id:114  Product_name:turmeric_powder \t \tPrice:128\t\t Quantity:98 \n",
            "-----------------------------------------------------------------------------------------------------\n",
            "product_id:115  Product_name:jem \t \tPrice:22\t\t Quantity:78 \n",
            "-----------------------------------------------------------------------------------------------------\n",
            "product_id:116  Product_name:tomato_sause \t \tPrice:38\t\t Quantity:96 \n",
            "-----------------------------------------------------------------------------------------------------\n",
            "product_id:117  Product_name:cheese \t \tPrice:60\t\t Quantity:66 \n",
            "-----------------------------------------------------------------------------------------------------\n",
            "product_id:118  Product_name:pizza_sause \t \tPrice:30\t\t Quantity:86 \n",
            "-----------------------------------------------------------------------------------------------------\n",
            "product_id:119  Product_name:ata_maggie \t \tPrice:12\t\t Quantity:100 \n",
            "-----------------------------------------------------------------------------------------------------\n",
            "product_id:120  Product_name:pasta \t \tPrice:28\t\t Quantity:56 \n",
            "-----------------------------------------------------------------------------------------------------\n",
            "product_id:121  Product_name:noodles \t \tPrice:58\t\t Quantity:86 \n",
            "-----------------------------------------------------------------------------------------------------\n",
            "product_id:122  Product_name:frooti  \t \tPrice:10\t\t Quantity:106 \n",
            "-----------------------------------------------------------------------------------------------------\n",
            "product_id:123  Product_name:gems \t \tPrice:5\t\t Quantity:66 \n",
            "-----------------------------------------------------------------------------------------------------\n",
            "product_id:124  Product_name:panner \t \tPrice:50\t\t Quantity:106 \n",
            "-----------------------------------------------------------------------------------------------------\n",
            "product_id:125  Product_name:curd \t \tPrice:15\t\t Quantity:46 \n",
            "-----------------------------------------------------------------------------------------------------\n",
            "product_id:126  Product_name:tooth_paste \t \tPrice:20\t\t Quantity:99 \n",
            "-----------------------------------------------------------------------------------------------------\n",
            "product_id:127  Product_name:shampo \t \tPrice:28\t\t Quantity:96 \n",
            "-----------------------------------------------------------------------------------------------------\n",
            "product_id:128  Product_name:hand_wash \t \tPrice:108\t\t Quantity:76 \n",
            "-----------------------------------------------------------------------------------------------------\n",
            "product_id:129  Product_name:idli_rava \t \tPrice:48\t\t Quantity:100 \n",
            "-----------------------------------------------------------------------------------------------------\n",
            "product_id:130  Product_name:appy \t \tPrice:10\t\t Quantity:56 \n"
          ]
        }
      ]
    },
    {
      "cell_type": "markdown",
      "metadata": {
        "id": "7n8s1482DkoN"
      },
      "source": [
        "**CHECKING IF ITEM PRESENT IN THE STORE**"
      ]
    },
    {
      "cell_type": "code",
      "metadata": {
        "colab": {
          "base_uri": "https://localhost:8080/"
        },
        "id": "OOH8WILo-jZX",
        "outputId": "8add8836-ca1b-4f20-91ae-c592d43166e7"
      },
      "source": [
        "product_id=(input(\"Enter the product id:\"))\n",
        "if (product_id in data.keys()):\n",
        "  print(\"******ITEM PRSENT IN THE STORE*****\")\n",
        "  print(\"Item Name is:{}   &  Price is:{}\".format(data[product_id][\"prod_name\"],data[product_id][\"prod_price\"]))\n",
        "  \n",
        "else:\n",
        "    print(\"**** ITEM NOT PRESENT ****\") \n"
      ],
      "execution_count": 4,
      "outputs": [
        {
          "output_type": "stream",
          "name": "stdout",
          "text": [
            "Enter the product id:101\n",
            "******ITEM PRSENT IN THE STORE*****\n",
            "Item Name is:high_fat_milk   &  Price is:25\n"
          ]
        }
      ]
    },
    {
      "cell_type": "markdown",
      "metadata": {
        "id": "AaqUXtTyFciW"
      },
      "source": [
        "**CHECKING IF ENTERED QUANTITY IS AVAILABLE OR NOT**\n",
        "**IF AVAILABLE PRINTING BILL**"
      ]
    },
    {
      "cell_type": "code",
      "metadata": {
        "id": "c49x5UJ7A3HO",
        "colab": {
          "base_uri": "https://localhost:8080/"
        },
        "outputId": "d6f25143-171e-4fa9-aa47-41641d406689"
      },
      "source": [
        "quantity=int(input(\"Enter The Quantity To Be Purchased:\"))\n",
        "if (quantity>=data[product_id][\"prod_quantity\"]):\n",
        "  print(\"LESS QUANTITY AVAILABLE\")\n",
        "  print(\"RE ENTER THE QUANTITY\")\n",
        "else:  \n",
        "  if (product_id in data.keys()):\n",
        "    print(\"********************INVOICE*******************\")\n",
        "    print(\"NAME OF PRODUCT:\",data[product_id][\"prod_name\"])\n",
        "    print(\"---------------------------------------------------------\")\n",
        "    print(\"PRICE OF PRODUCT:\",data[product_id][\"prod_price\"])\n",
        "    print(\"---------------------------------------------------------\")\n",
        "    print(\"Quantity:\",quantity)\n",
        "    print(\"---------------------------------------------------------\")\n",
        "    import time\n",
        "    t=time.ctime()\n",
        "    print(\"FINAL TOTAL:{}              {}\".format(data[product_id][\"prod_price\"]*quantity,t))\n"
      ],
      "execution_count": 5,
      "outputs": [
        {
          "output_type": "stream",
          "name": "stdout",
          "text": [
            "Enter The Quantity To Be Purchased:2\n",
            "********************INVOICE*******************\n",
            "NAME OF PRODUCT: high_fat_milk\n",
            "---------------------------------------------------------\n",
            "PRICE OF PRODUCT: 25\n",
            "---------------------------------------------------------\n",
            "Quantity: 2\n",
            "---------------------------------------------------------\n",
            "FINAL TOTAL:50              Mon Sep  6 11:48:41 2021\n"
          ]
        }
      ]
    },
    {
      "cell_type": "markdown",
      "metadata": {
        "id": "6c0eUaOOJGZW"
      },
      "source": [
        "**UPDATING THE QUANTITY IN RECORD.JSON FILE**\n"
      ]
    },
    {
      "cell_type": "code",
      "metadata": {
        "id": "SJ1Uh3ZWJfYT"
      },
      "source": [
        "data[product_id][\"prod_quantity\"]=data[product_id][\"prod_quantity\"]-quantity"
      ],
      "execution_count": 6,
      "outputs": []
    },
    {
      "cell_type": "markdown",
      "metadata": {
        "id": "INt5h55D_bAh"
      },
      "source": [
        "**UPDATING THE INVENTORY AFTER PURCHASE**\n",
        "\n"
      ]
    },
    {
      "cell_type": "code",
      "metadata": {
        "id": "VkTaAy2-JSbN"
      },
      "source": [
        "import json\n",
        "updated=json.dumps(data)\n",
        "fd=open(\"record.json\",\"w\")\n",
        "fd.write(updated)\n",
        "fd.close()"
      ],
      "execution_count": 7,
      "outputs": []
    },
    {
      "cell_type": "markdown",
      "metadata": {
        "id": "YIG_ODGLArNt"
      },
      "source": [
        "**SALES JSON**\n"
      ]
    },
    {
      "cell_type": "code",
      "metadata": {
        "colab": {
          "base_uri": "https://localhost:8080/"
        },
        "id": "2Yh5l5z5BTQj",
        "outputId": "d495e11b-47eb-45cc-f838-42fd26a0e28a"
      },
      "source": [
        "sales=dict()\n",
        "trasction_id=int(input(\"enter the traction id\"))\n",
        "sales[trasction_id]={\"product_id\":product_id,\"product_quantity\":quantity,\"final amount\":data[product_id][\"prod_price\"]*quantity,\"time_of_purschase\":t}\n"
      ],
      "execution_count": 11,
      "outputs": [
        {
          "name": "stdout",
          "output_type": "stream",
          "text": [
            "enter the traction id1\n"
          ]
        }
      ]
    },
    {
      "cell_type": "markdown",
      "metadata": {
        "id": "rOE1aeCmEf8K"
      },
      "source": [
        "**PRINTING SALES RECORD**\n"
      ]
    },
    {
      "cell_type": "code",
      "metadata": {
        "colab": {
          "base_uri": "https://localhost:8080/"
        },
        "id": "1GnjcMboBUF9",
        "outputId": "2c4b804a-e018-47f6-e157-7383d3b5a6af"
      },
      "source": [
        "print(\"*************************TOTAL SALES RECORD****************\")\n",
        "print(\"transaction_id:{}    product_id:{}   product_name:{}   product_price:{}  product_quantity:{}   final_total:{}  purchase_time/date:{}\".format(trasction_id,product_id,data[product_id][\"prod_name\"],quantity,data[product_id][\"prod_price\"],data[product_id][\"prod_price\"]*quantity,t))"
      ],
      "execution_count": 12,
      "outputs": [
        {
          "output_type": "stream",
          "name": "stdout",
          "text": [
            "*************************TOTAL SALES RECORD****************\n",
            "transaction_id:1    product_id:101   product_name:high_fat_milk   product_price:2  product_quantity:25   final_total:50  purchase_time/date:Mon Sep  6 11:48:41 2021\n"
          ]
        }
      ]
    },
    {
      "cell_type": "code",
      "metadata": {
        "id": "rVPvxKKwDAJd"
      },
      "source": [
        "import json\n",
        "sales_record=json.dumps(sales)"
      ],
      "execution_count": 13,
      "outputs": []
    },
    {
      "cell_type": "code",
      "metadata": {
        "id": "B-9g0UYzIWbP"
      },
      "source": [
        "fd=open(\"sales.json\",\"w\")\n",
        "x=fd.write(sales_record)\n",
        "fd.close()"
      ],
      "execution_count": 15,
      "outputs": []
    }
  ]
}